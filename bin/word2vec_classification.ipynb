{
 "cells": [
  {
   "cell_type": "markdown",
   "metadata": {},
   "source": [
    "# word2vec and classification"
   ]
  },
  {
   "cell_type": "markdown",
   "metadata": {},
   "source": [
    "Analysis of the [Amazon Fine Food Reviews dataset on Kaggle](https://www.kaggle.com/snap/amazon-fine-food-reviews).\n",
    "GitHub repository with this analysis: https://github.com/JungeAlexander/kaggle-amazon-fine-food-reviews\n",
    "\n",
    "The goal of the analysis is to classify positive (4-5 stars) and negative (1-2 stars) reviews based on the\n",
    "review content.\n",
    "\n",
    "Some inspiration can be found here:\n",
    "\n",
    "- https://www.kaggle.com/c/word2vec-nlp-tutorial\n",
    "- https://www.kaggle.com/gpayen/d/snap/amazon-fine-food-reviews/building-a-prediction-model/notebook\n",
    "- https://www.kaggle.com/inspector/d/snap/amazon-fine-food-reviews/word2vec-logistic-regression-0-88-auc/notebook"
   ]
  },
  {
   "cell_type": "code",
   "execution_count": 2,
   "metadata": {
    "collapsed": false
   },
   "outputs": [],
   "source": [
    "import nltk\n",
    "from nltk.corpus import stopwords\n",
    "import numpy as np\n",
    "import pandas as pd\n",
    "import seaborn as sns\n",
    "#from sklearn import\n",
    "import sqlite3\n",
    "import re\n",
    "from tqdm import tqdm"
   ]
  },
  {
   "cell_type": "code",
   "execution_count": 3,
   "metadata": {
    "collapsed": true
   },
   "outputs": [],
   "source": [
    "%matplotlib inline"
   ]
  },
  {
   "cell_type": "code",
   "execution_count": 4,
   "metadata": {
    "collapsed": true
   },
   "outputs": [],
   "source": [
    "# Load the punkt tokenizer used for splitting reviews into sentences\n",
    "tokenizer = nltk.data.load('tokenizers/punkt/english.pickle')"
   ]
  },
  {
   "cell_type": "markdown",
   "metadata": {},
   "source": [
    "# Labelling good and bad reviews\n",
    "\n",
    "To obtain binary class labels, reviews with 4-5 stars are considered good and assigned a '1' class label while reviews with less than 3 stars are considered bad and assigned a '0' class label. Reviews with 3 stars are ignored."
   ]
  },
  {
   "cell_type": "code",
   "execution_count": 5,
   "metadata": {
    "collapsed": true
   },
   "outputs": [],
   "source": [
    "connection = sqlite3.connect('../input/database.sqlite')\n",
    "reviews = pd.read_sql_query(\"\"\"SELECT * FROM Reviews WHERE Score != 3\"\"\", connection)"
   ]
  },
  {
   "cell_type": "code",
   "execution_count": 6,
   "metadata": {
    "collapsed": false
   },
   "outputs": [
    {
     "data": {
      "text/plain": [
       "array([[<matplotlib.axes._subplots.AxesSubplot object at 0x7f2fc865e5f8>]], dtype=object)"
      ]
     },
     "execution_count": 6,
     "metadata": {},
     "output_type": "execute_result"
    },
    {
     "data": {
      "image/png": "[encoded data removed]",
      "text/plain": [
       "<matplotlib.figure.Figure at 0x7f2fc75227f0>"
      ]
     },
     "metadata": {},
     "output_type": "display_data"
    }
   ],
   "source": [
    "reviews.hist('Score')"
   ]
  },
  {
   "cell_type": "markdown",
   "metadata": {},
   "source": [
    "We observe that the data set is heavily biased towards reviews with a score of 5."
   ]
  },
  {
   "cell_type": "code",
   "execution_count": 7,
   "metadata": {
    "collapsed": false
   },
   "outputs": [],
   "source": [
    "reviews['Class'] = 1 * (reviews['Score'] > 3)"
   ]
  },
  {
   "cell_type": "code",
   "execution_count": 8,
   "metadata": {
    "collapsed": false
   },
   "outputs": [
    {
     "data": {
      "text/html": [
       "<div>\n",
       "<table border=\"1\" class=\"dataframe\">\n",
       "  <thead>\n",
       "    <tr style=\"text-align: right;\">\n",
       "      <th></th>\n",
       "      <th>Id</th>\n",
       "      <th>ProductId</th>\n",
       "      <th>UserId</th>\n",
       "      <th>ProfileName</th>\n",
       "      <th>HelpfulnessNumerator</th>\n",
       "      <th>HelpfulnessDenominator</th>\n",
       "      <th>Score</th>\n",
       "      <th>Time</th>\n",
       "      <th>Summary</th>\n",
       "      <th>Text</th>\n",
       "      <th>Class</th>\n",
       "    </tr>\n",
       "  </thead>\n",
       "  <tbody>\n",
       "    <tr>\n",
       "      <th>0</th>\n",
       "      <td>1</td>\n",
       "      <td>B001E4KFG0</td>\n",
       "      <td>A3SGXH7AUHU8GW</td>\n",
       "      <td>delmartian</td>\n",
       "      <td>1</td>\n",
       "      <td>1</td>\n",
       "      <td>5</td>\n",
       "      <td>1303862400</td>\n",
       "      <td>Good Quality Dog Food</td>\n",
       "      <td>I have bought several of the Vitality canned d...</td>\n",
       "      <td>1</td>\n",
       "    </tr>\n",
       "    <tr>\n",
       "      <th>1</th>\n",
       "      <td>2</td>\n",
       "      <td>B00813GRG4</td>\n",
       "      <td>A1D87F6ZCVE5NK</td>\n",
       "      <td>dll pa</td>\n",
       "      <td>0</td>\n",
       "      <td>0</td>\n",
       "      <td>1</td>\n",
       "      <td>1346976000</td>\n",
       "      <td>Not as Advertised</td>\n",
       "      <td>Product arrived labeled as Jumbo Salted Peanut...</td>\n",
       "      <td>0</td>\n",
       "    </tr>\n",
       "  </tbody>\n",
       "</table>\n",
       "</div>"
      ],
      "text/plain": [
       "   Id   ProductId          UserId ProfileName  HelpfulnessNumerator  \\\n",
       "0   1  B001E4KFG0  A3SGXH7AUHU8GW  delmartian                     1   \n",
       "1   2  B00813GRG4  A1D87F6ZCVE5NK      dll pa                     0   \n",
       "\n",
       "   HelpfulnessDenominator  Score        Time                Summary  \\\n",
       "0                       1      5  1303862400  Good Quality Dog Food   \n",
       "1                       0      1  1346976000      Not as Advertised   \n",
       "\n",
       "                                                Text  Class  \n",
       "0  I have bought several of the Vitality canned d...      1  \n",
       "1  Product arrived labeled as Jumbo Salted Peanut...      0  "
      ]
     },
     "execution_count": 8,
     "metadata": {},
     "output_type": "execute_result"
    }
   ],
   "source": [
    "reviews.head(n=2)"
   ]
  },
  {
   "cell_type": "markdown",
   "metadata": {},
   "source": [
    "## Split into training and test sets\n",
    "\n",
    "Split the data set into training and test sets. To ensure indendence of training and test set and generalizability of the model, make sure that no product (identified by `ProductId`) and no user (identified by `UserId`) is present in both training and test set.\n",
    "\n",
    "This is implemented by first sorting the data set by `ProductId`, splitting into equally sized training and test set (no shuffling!) and lastly removing any reviews from the test set where either user or product ID also appears in the training set. Of course, this will make the training and test sets unequally sized but ¯\\\\\\_\\_(ツ)\\_\\_/¯"
   ]
  },
  {
   "cell_type": "code",
   "execution_count": 9,
   "metadata": {
    "collapsed": true
   },
   "outputs": [],
   "source": [
    "reviews.sort_values('ProductId', axis=0, inplace=True)"
   ]
  },
  {
   "cell_type": "code",
   "execution_count": 10,
   "metadata": {
    "collapsed": false
   },
   "outputs": [],
   "source": [
    "train_size = int(len(reviews) * 0.5)\n",
    "train_reviews = reviews.iloc[:train_size,:]\n",
    "test_reviews = reviews.iloc[train_size:,:]"
   ]
  },
  {
   "cell_type": "code",
   "execution_count": 11,
   "metadata": {
    "collapsed": false
   },
   "outputs": [],
   "source": [
    "test_remove = np.logical_or(test_reviews['ProductId'].isin(train_reviews['ProductId']),\n",
    "                          test_reviews['UserId'].isin(train_reviews['UserId']))\n",
    "test_reviews = test_reviews[np.logical_not(test_remove)]"
   ]
  },
  {
   "cell_type": "code",
   "execution_count": 12,
   "metadata": {
    "collapsed": false
   },
   "outputs": [
    {
     "name": "stdout",
     "output_type": "stream",
     "text": [
      "Training set contains 262907 reviews.\n",
      "Test set contains 151198 reviews (111709 removed).\n"
     ]
    }
   ],
   "source": [
    "print('Training set contains {:d} reviews.'.format(len(train_reviews)))\n",
    "print('Test set contains {:d} reviews ({:d} removed).'.format(len(test_reviews), sum(test_remove)))"
   ]
  },
  {
   "cell_type": "code",
   "execution_count": 13,
   "metadata": {
    "collapsed": false
   },
   "outputs": [
    {
     "name": "stdout",
     "output_type": "stream",
     "text": [
      "Training set contains 84.93% positive reviews\n",
      "Test set contains 82.37% positive reviews\n"
     ]
    }
   ],
   "source": [
    "n_pos_train = sum(train_reviews['Class'] == 1)\n",
    "print('Training set contains {:.2%} positive reviews'.format(n_pos_train/len(train_reviews)))\n",
    "n_pos_test = sum(test_reviews['Class'] == 1)\n",
    "print('Test set contains {:.2%} positive reviews'.format(n_pos_test/len(test_reviews)))"
   ]
  },
  {
   "cell_type": "markdown",
   "metadata": {},
   "source": [
    "## Preparing review text"
   ]
  },
  {
   "cell_type": "markdown",
   "metadata": {},
   "source": [
    "Convert each review in the training set to a list of sentences where each sentence is in turn a list of words.\n",
    "Besides splitting reviews into sentences, non-letters and (optionally) stop words are removed and all words\n",
    "coverted to lower case.\n",
    "\n",
    "Inspired by: https://www.kaggle.com/c/word2vec-nlp-tutorial/details/part-2-word-vectors"
   ]
  },
  {
   "cell_type": "code",
   "execution_count": 14,
   "metadata": {
    "collapsed": true
   },
   "outputs": [],
   "source": [
    "def review_to_wordlist( review, remove_stopwords=False ):\n",
    "    \"\"\"\n",
    "    Convert a review to a list of words. Removal of stop words is optional.\n",
    "    \"\"\"\n",
    "    # remove non-letters\n",
    "    review_text = re.sub(\"[^a-zA-Z]\",\" \", review)\n",
    "    \n",
    "    # convert to lower case and split at whitespace\n",
    "    words = review_text.lower().split()\n",
    "    \n",
    "    # remove stop words (false by default)\n",
    "    if remove_stopwords:\n",
    "        stops = set(stopwords.words(\"english\"))\n",
    "        words = [w for w in words if not w in stops]\n",
    "\n",
    "    return words"
   ]
  },
  {
   "cell_type": "code",
   "execution_count": 15,
   "metadata": {
    "collapsed": false
   },
   "outputs": [],
   "source": [
    "def review_to_sentences( review, tokenizer, remove_stopwords=False ):\n",
    "    \"\"\"\n",
    "    Split review into list of sentences where each sentence is a list of words.\n",
    "    Removal of stop words is optional.\n",
    "    \"\"\"\n",
    "    # use the NLTK tokenizer to split the paragraph into sentences\n",
    "    raw_sentences = tokenizer.tokenize(review.strip())\n",
    "\n",
    "    # each sentence is furthermore split into words\n",
    "    sentences = []    \n",
    "    for raw_sentence in raw_sentences:\n",
    "        # If a sentence is empty, skip it\n",
    "        if len(raw_sentence) > 0:\n",
    "            sentences.append(review_to_wordlist(raw_sentence, remove_stopwords))\n",
    "            \n",
    "    return sentences"
   ]
  },
  {
   "cell_type": "code",
   "execution_count": 16,
   "metadata": {
    "collapsed": false
   },
   "outputs": [
    {
     "name": "stderr",
     "output_type": "stream",
     "text": [
      "100%|██████████| 262907/262907 [01:30<00:00, 2910.75it/s]\n"
     ]
    }
   ],
   "source": [
    "train_sentences = []  # Initialize an empty list of sentences\n",
    "for review in tqdm(train_reviews['Text']):\n",
    "    train_sentences += review_to_sentences(review, tokenizer)"
   ]
  },
  {
   "cell_type": "code",
   "execution_count": 18,
   "metadata": {
    "collapsed": false
   },
   "outputs": [
    {
     "data": {
      "text/plain": [
       "['this',\n",
       " 'witty',\n",
       " 'little',\n",
       " 'book',\n",
       " 'makes',\n",
       " 'my',\n",
       " 'son',\n",
       " 'laugh',\n",
       " 'at',\n",
       " 'loud']"
      ]
     },
     "execution_count": 18,
     "metadata": {},
     "output_type": "execute_result"
    }
   ],
   "source": [
    "train_sentences[0]"
   ]
  },
  {
   "cell_type": "markdown",
   "metadata": {},
   "source": [
    "# TODO\n",
    "\n",
    "- train word embedding\n",
    "- Look at a couple of examples\n",
    "- classify"
   ]
  },
  {
   "cell_type": "code",
   "execution_count": null,
   "metadata": {
    "collapsed": false
   },
   "outputs": [
    {
     "name": "stderr",
     "output_type": "stream",
     "text": [
      "2016-11-29 22:05:28,655 : INFO : Pattern library is not installed, lemmatization won't be available.\n",
      "2016-11-29 22:05:28,691 : INFO : Could not import Theano, will use standard float for default ShardedCorpus dtype.\n",
      "2016-11-29 22:05:28,924 : INFO : 'pattern' package not found; tag filters are not available for English\n",
      "2016-11-29 22:05:28,943 : INFO : collecting all words and their counts\n",
      "2016-11-29 22:05:28,945 : INFO : PROGRESS: at sentence #0, processed 0 words, keeping 0 word types\n",
      "2016-11-29 22:05:29,003 : INFO : PROGRESS: at sentence #10000, processed 180428 words, keeping 8069 word types\n",
      "2016-11-29 22:05:29,062 : INFO : PROGRESS: at sentence #20000, processed 359188 words, keeping 11891 word types\n",
      "2016-11-29 22:05:29,120 : INFO : PROGRESS: at sentence #30000, processed 524070 words, keeping 15515 word types\n"
     ]
    },
    {
     "name": "stdout",
     "output_type": "stream",
     "text": [
      "Training model...\n"
     ]
    },
    {
     "name": "stderr",
     "output_type": "stream",
     "text": [
      "2016-11-29 22:05:29,177 : INFO : PROGRESS: at sentence #40000, processed 680380 words, keeping 17879 word types\n",
      "2016-11-29 22:05:29,235 : INFO : PROGRESS: at sentence #50000, processed 842552 words, keeping 20707 word types\n",
      "2016-11-29 22:05:29,294 : INFO : PROGRESS: at sentence #60000, processed 1004577 words, keeping 22649 word types\n",
      "2016-11-29 22:05:29,352 : INFO : PROGRESS: at sentence #70000, processed 1167004 words, keeping 24754 word types\n",
      "2016-11-29 22:05:29,406 : INFO : PROGRESS: at sentence #80000, processed 1320862 words, keeping 25385 word types\n",
      "2016-11-29 22:05:29,470 : INFO : PROGRESS: at sentence #90000, processed 1490399 words, keeping 26728 word types\n",
      "2016-11-29 22:05:29,537 : INFO : PROGRESS: at sentence #100000, processed 1652964 words, keeping 27605 word types\n",
      "2016-11-29 22:05:29,594 : INFO : PROGRESS: at sentence #110000, processed 1820823 words, keeping 28651 word types\n",
      "2016-11-29 22:05:29,656 : INFO : PROGRESS: at sentence #120000, processed 1995726 words, keeping 30232 word types\n",
      "2016-11-29 22:05:29,713 : INFO : PROGRESS: at sentence #130000, processed 2162244 words, keeping 31400 word types\n",
      "2016-11-29 22:05:29,771 : INFO : PROGRESS: at sentence #140000, processed 2330605 words, keeping 32324 word types\n",
      "2016-11-29 22:05:29,829 : INFO : PROGRESS: at sentence #150000, processed 2497196 words, keeping 33059 word types\n",
      "2016-11-29 22:05:29,880 : INFO : PROGRESS: at sentence #160000, processed 2657117 words, keeping 33871 word types\n",
      "2016-11-29 22:05:29,936 : INFO : PROGRESS: at sentence #170000, processed 2816870 words, keeping 34759 word types\n",
      "2016-11-29 22:05:29,998 : INFO : PROGRESS: at sentence #180000, processed 2981871 words, keeping 35634 word types\n",
      "2016-11-29 22:05:30,062 : INFO : PROGRESS: at sentence #190000, processed 3159640 words, keeping 36318 word types\n",
      "2016-11-29 22:05:30,129 : INFO : PROGRESS: at sentence #200000, processed 3328868 words, keeping 37267 word types\n",
      "2016-11-29 22:05:30,187 : INFO : PROGRESS: at sentence #210000, processed 3487336 words, keeping 37910 word types\n",
      "2016-11-29 22:05:30,243 : INFO : PROGRESS: at sentence #220000, processed 3645618 words, keeping 38757 word types\n",
      "2016-11-29 22:05:30,300 : INFO : PROGRESS: at sentence #230000, processed 3804465 words, keeping 39479 word types\n",
      "2016-11-29 22:05:30,354 : INFO : PROGRESS: at sentence #240000, processed 3965130 words, keeping 39655 word types\n",
      "2016-11-29 22:05:30,412 : INFO : PROGRESS: at sentence #250000, processed 4124553 words, keeping 39661 word types\n",
      "2016-11-29 22:05:30,481 : INFO : PROGRESS: at sentence #260000, processed 4284220 words, keeping 40104 word types\n",
      "2016-11-29 22:05:30,577 : INFO : PROGRESS: at sentence #270000, processed 4442962 words, keeping 40692 word types\n",
      "2016-11-29 22:05:30,678 : INFO : PROGRESS: at sentence #280000, processed 4599727 words, keeping 41115 word types\n",
      "2016-11-29 22:05:30,790 : INFO : PROGRESS: at sentence #290000, processed 4760344 words, keeping 41816 word types\n",
      "2016-11-29 22:05:30,876 : INFO : PROGRESS: at sentence #300000, processed 4922629 words, keeping 42359 word types\n",
      "2016-11-29 22:05:30,939 : INFO : PROGRESS: at sentence #310000, processed 5079635 words, keeping 42906 word types\n",
      "2016-11-29 22:05:30,997 : INFO : PROGRESS: at sentence #320000, processed 5237498 words, keeping 43677 word types\n",
      "2016-11-29 22:05:31,054 : INFO : PROGRESS: at sentence #330000, processed 5394753 words, keeping 44185 word types\n",
      "2016-11-29 22:05:31,114 : INFO : PROGRESS: at sentence #340000, processed 5552023 words, keeping 44461 word types\n",
      "2016-11-29 22:05:31,173 : INFO : PROGRESS: at sentence #350000, processed 5703169 words, keeping 44888 word types\n",
      "2016-11-29 22:05:31,221 : INFO : PROGRESS: at sentence #360000, processed 5853108 words, keeping 45369 word types\n",
      "2016-11-29 22:05:31,279 : INFO : PROGRESS: at sentence #370000, processed 6010727 words, keeping 46014 word types\n",
      "2016-11-29 22:05:31,338 : INFO : PROGRESS: at sentence #380000, processed 6172789 words, keeping 46661 word types\n",
      "2016-11-29 22:05:31,398 : INFO : PROGRESS: at sentence #390000, processed 6337696 words, keeping 47259 word types\n",
      "2016-11-29 22:05:31,451 : INFO : PROGRESS: at sentence #400000, processed 6494452 words, keeping 47666 word types\n",
      "2016-11-29 22:05:31,515 : INFO : PROGRESS: at sentence #410000, processed 6652355 words, keeping 48283 word types\n",
      "2016-11-29 22:05:31,575 : INFO : PROGRESS: at sentence #420000, processed 6815199 words, keeping 48806 word types\n",
      "2016-11-29 22:05:31,626 : INFO : PROGRESS: at sentence #430000, processed 6971053 words, keeping 49371 word types\n",
      "2016-11-29 22:05:31,688 : INFO : PROGRESS: at sentence #440000, processed 7125020 words, keeping 49626 word types\n",
      "2016-11-29 22:05:31,744 : INFO : PROGRESS: at sentence #450000, processed 7279040 words, keeping 50019 word types\n",
      "2016-11-29 22:05:31,805 : INFO : PROGRESS: at sentence #460000, processed 7431507 words, keeping 50333 word types\n",
      "2016-11-29 22:05:31,864 : INFO : PROGRESS: at sentence #470000, processed 7587748 words, keeping 50771 word types\n",
      "2016-11-29 22:05:31,921 : INFO : PROGRESS: at sentence #480000, processed 7747819 words, keeping 51246 word types\n",
      "2016-11-29 22:05:31,984 : INFO : PROGRESS: at sentence #490000, processed 7909136 words, keeping 51499 word types\n",
      "2016-11-29 22:05:32,046 : INFO : PROGRESS: at sentence #500000, processed 8067395 words, keeping 51968 word types\n",
      "2016-11-29 22:05:32,104 : INFO : PROGRESS: at sentence #510000, processed 8223527 words, keeping 52403 word types\n",
      "2016-11-29 22:05:32,155 : INFO : PROGRESS: at sentence #520000, processed 8378958 words, keeping 52829 word types\n",
      "2016-11-29 22:05:32,225 : INFO : PROGRESS: at sentence #530000, processed 8537773 words, keeping 53394 word types\n",
      "2016-11-29 22:05:32,282 : INFO : PROGRESS: at sentence #540000, processed 8690398 words, keeping 53779 word types\n",
      "2016-11-29 22:05:32,334 : INFO : PROGRESS: at sentence #550000, processed 8842053 words, keeping 54215 word types\n",
      "2016-11-29 22:05:32,394 : INFO : PROGRESS: at sentence #560000, processed 9004279 words, keeping 54913 word types\n",
      "2016-11-29 22:05:32,451 : INFO : PROGRESS: at sentence #570000, processed 9164023 words, keeping 55335 word types\n",
      "2016-11-29 22:05:32,517 : INFO : PROGRESS: at sentence #580000, processed 9330192 words, keeping 55887 word types\n",
      "2016-11-29 22:05:32,580 : INFO : PROGRESS: at sentence #590000, processed 9494137 words, keeping 56239 word types\n",
      "2016-11-29 22:05:32,634 : INFO : PROGRESS: at sentence #600000, processed 9652921 words, keeping 56548 word types\n",
      "2016-11-29 22:05:32,697 : INFO : PROGRESS: at sentence #610000, processed 9809724 words, keeping 56887 word types\n",
      "2016-11-29 22:05:32,759 : INFO : PROGRESS: at sentence #620000, processed 9969697 words, keeping 57308 word types\n",
      "2016-11-29 22:05:32,811 : INFO : PROGRESS: at sentence #630000, processed 10131795 words, keeping 57999 word types\n",
      "2016-11-29 22:05:32,876 : INFO : PROGRESS: at sentence #640000, processed 10295238 words, keeping 58537 word types\n",
      "2016-11-29 22:05:32,937 : INFO : PROGRESS: at sentence #650000, processed 10455800 words, keeping 59002 word types\n",
      "2016-11-29 22:05:32,998 : INFO : PROGRESS: at sentence #660000, processed 10612501 words, keeping 59491 word types\n",
      "2016-11-29 22:05:33,053 : INFO : PROGRESS: at sentence #670000, processed 10767283 words, keeping 60005 word types\n",
      "2016-11-29 22:05:33,120 : INFO : PROGRESS: at sentence #680000, processed 10933050 words, keeping 60534 word types\n",
      "2016-11-29 22:05:33,173 : INFO : PROGRESS: at sentence #690000, processed 11091575 words, keeping 60917 word types\n",
      "2016-11-29 22:05:33,239 : INFO : PROGRESS: at sentence #700000, processed 11251827 words, keeping 61285 word types\n",
      "2016-11-29 22:05:33,294 : INFO : PROGRESS: at sentence #710000, processed 11412990 words, keeping 61519 word types\n",
      "2016-11-29 22:05:33,354 : INFO : PROGRESS: at sentence #720000, processed 11568608 words, keeping 61975 word types\n",
      "2016-11-29 22:05:33,412 : INFO : PROGRESS: at sentence #730000, processed 11729893 words, keeping 62473 word types\n",
      "2016-11-29 22:05:33,478 : INFO : PROGRESS: at sentence #740000, processed 11888227 words, keeping 62950 word types\n",
      "2016-11-29 22:05:33,538 : INFO : PROGRESS: at sentence #750000, processed 12045035 words, keeping 63372 word types\n",
      "2016-11-29 22:05:33,604 : INFO : PROGRESS: at sentence #760000, processed 12207760 words, keeping 63731 word types\n",
      "2016-11-29 22:05:33,670 : INFO : PROGRESS: at sentence #770000, processed 12367459 words, keeping 64261 word types\n",
      "2016-11-29 22:05:33,734 : INFO : PROGRESS: at sentence #780000, processed 12540406 words, keeping 64548 word types\n",
      "2016-11-29 22:05:33,803 : INFO : PROGRESS: at sentence #790000, processed 12714651 words, keeping 64963 word types\n",
      "2016-11-29 22:05:33,870 : INFO : PROGRESS: at sentence #800000, processed 12909315 words, keeping 65190 word types\n",
      "2016-11-29 22:05:33,941 : INFO : PROGRESS: at sentence #810000, processed 13102866 words, keeping 65307 word types\n",
      "2016-11-29 22:05:34,001 : INFO : PROGRESS: at sentence #820000, processed 13265784 words, keeping 65637 word types\n",
      "2016-11-29 22:05:34,063 : INFO : PROGRESS: at sentence #830000, processed 13425109 words, keeping 66033 word types\n",
      "2016-11-29 22:05:34,114 : INFO : PROGRESS: at sentence #840000, processed 13583257 words, keeping 66253 word types\n",
      "2016-11-29 22:05:34,192 : INFO : PROGRESS: at sentence #850000, processed 13750179 words, keeping 66673 word types\n",
      "2016-11-29 22:05:34,251 : INFO : PROGRESS: at sentence #860000, processed 13912689 words, keeping 66960 word types\n",
      "2016-11-29 22:05:34,315 : INFO : PROGRESS: at sentence #870000, processed 14080276 words, keeping 67276 word types\n",
      "2016-11-29 22:05:34,377 : INFO : PROGRESS: at sentence #880000, processed 14253592 words, keeping 67585 word types\n",
      "2016-11-29 22:05:34,441 : INFO : PROGRESS: at sentence #890000, processed 14425242 words, keeping 67695 word types\n",
      "2016-11-29 22:05:34,507 : INFO : PROGRESS: at sentence #900000, processed 14584406 words, keeping 67902 word types\n",
      "2016-11-29 22:05:34,570 : INFO : PROGRESS: at sentence #910000, processed 14752165 words, keeping 68090 word types\n",
      "2016-11-29 22:05:34,641 : INFO : PROGRESS: at sentence #920000, processed 14922356 words, keeping 68452 word types\n",
      "2016-11-29 22:05:34,696 : INFO : PROGRESS: at sentence #930000, processed 15078725 words, keeping 68823 word types\n",
      "2016-11-29 22:05:34,767 : INFO : PROGRESS: at sentence #940000, processed 15234489 words, keeping 69234 word types\n",
      "2016-11-29 22:05:34,836 : INFO : PROGRESS: at sentence #950000, processed 15397711 words, keeping 69630 word types\n",
      "2016-11-29 22:05:34,892 : INFO : PROGRESS: at sentence #960000, processed 15555781 words, keeping 70069 word types\n",
      "2016-11-29 22:05:34,966 : INFO : PROGRESS: at sentence #970000, processed 15737605 words, keeping 70296 word types\n",
      "2016-11-29 22:05:35,019 : INFO : PROGRESS: at sentence #980000, processed 15895638 words, keeping 70505 word types\n",
      "2016-11-29 22:05:35,094 : INFO : PROGRESS: at sentence #990000, processed 16058462 words, keeping 70874 word types\n",
      "2016-11-29 22:05:35,150 : INFO : PROGRESS: at sentence #1000000, processed 16219005 words, keeping 71013 word types\n",
      "2016-11-29 22:05:35,220 : INFO : PROGRESS: at sentence #1010000, processed 16383036 words, keeping 71400 word types\n",
      "2016-11-29 22:05:35,288 : INFO : PROGRESS: at sentence #1020000, processed 16577581 words, keeping 71604 word types\n",
      "2016-11-29 22:05:35,343 : INFO : PROGRESS: at sentence #1030000, processed 16747920 words, keeping 71777 word types\n",
      "2016-11-29 22:05:35,412 : INFO : PROGRESS: at sentence #1040000, processed 16918066 words, keeping 71942 word types\n",
      "2016-11-29 22:05:35,469 : INFO : PROGRESS: at sentence #1050000, processed 17076861 words, keeping 72257 word types\n",
      "2016-11-29 22:05:35,534 : INFO : PROGRESS: at sentence #1060000, processed 17229888 words, keeping 72395 word types\n",
      "2016-11-29 22:05:35,597 : INFO : PROGRESS: at sentence #1070000, processed 17390441 words, keeping 72661 word types\n",
      "2016-11-29 22:05:35,656 : INFO : PROGRESS: at sentence #1080000, processed 17558493 words, keeping 72866 word types\n",
      "2016-11-29 22:05:35,721 : INFO : PROGRESS: at sentence #1090000, processed 17715910 words, keeping 73246 word types\n",
      "2016-11-29 22:05:35,774 : INFO : PROGRESS: at sentence #1100000, processed 17875115 words, keeping 73599 word types\n",
      "2016-11-29 22:05:35,845 : INFO : PROGRESS: at sentence #1110000, processed 18040043 words, keeping 73952 word types\n",
      "2016-11-29 22:05:35,910 : INFO : PROGRESS: at sentence #1120000, processed 18198519 words, keeping 74277 word types\n",
      "2016-11-29 22:05:35,969 : INFO : PROGRESS: at sentence #1130000, processed 18360987 words, keeping 74600 word types\n",
      "2016-11-29 22:05:36,039 : INFO : PROGRESS: at sentence #1140000, processed 18521917 words, keeping 74963 word types\n",
      "2016-11-29 22:05:36,102 : INFO : PROGRESS: at sentence #1150000, processed 18684802 words, keeping 75226 word types\n",
      "2016-11-29 22:05:36,167 : INFO : PROGRESS: at sentence #1160000, processed 18847163 words, keeping 75541 word types\n",
      "2016-11-29 22:05:36,219 : INFO : PROGRESS: at sentence #1170000, processed 19005099 words, keeping 75888 word types\n",
      "2016-11-29 22:05:36,283 : INFO : PROGRESS: at sentence #1180000, processed 19168066 words, keeping 76181 word types\n",
      "2016-11-29 22:05:36,338 : INFO : PROGRESS: at sentence #1190000, processed 19330830 words, keeping 76627 word types\n",
      "2016-11-29 22:05:36,394 : INFO : PROGRESS: at sentence #1200000, processed 19489307 words, keeping 76865 word types\n",
      "2016-11-29 22:05:36,449 : INFO : PROGRESS: at sentence #1210000, processed 19651401 words, keeping 77162 word types\n",
      "2016-11-29 22:05:36,502 : INFO : PROGRESS: at sentence #1220000, processed 19809331 words, keeping 77545 word types\n",
      "2016-11-29 22:05:36,563 : INFO : PROGRESS: at sentence #1230000, processed 19969411 words, keeping 77954 word types\n",
      "2016-11-29 22:05:36,622 : INFO : PROGRESS: at sentence #1240000, processed 20128485 words, keeping 78238 word types\n",
      "2016-11-29 22:05:36,678 : INFO : PROGRESS: at sentence #1250000, processed 20286688 words, keeping 78447 word types\n",
      "2016-11-29 22:05:36,739 : INFO : PROGRESS: at sentence #1260000, processed 20450422 words, keeping 78777 word types\n",
      "2016-11-29 22:05:36,795 : INFO : PROGRESS: at sentence #1270000, processed 20615492 words, keeping 79114 word types\n",
      "2016-11-29 22:05:36,808 : INFO : collected 79173 word types from a corpus of 20644316 raw words and 1271906 sentences\n",
      "2016-11-29 22:05:36,891 : INFO : min_count=40 retains 10821 unique words (drops 68352)\n",
      "2016-11-29 22:05:36,892 : INFO : min_count leaves 20305171 word corpus (98% of original 20644316)\n",
      "2016-11-29 22:05:36,931 : INFO : deleting the raw counts dictionary of 79173 items\n",
      "2016-11-29 22:05:36,938 : INFO : sample=0.001 downsamples 55 most-common words\n",
      "2016-11-29 22:05:36,940 : INFO : downsampling leaves estimated 14845841 word corpus (73.1% of prior 20305171)\n",
      "2016-11-29 22:05:36,941 : INFO : estimated required memory for 10821 words and 300 dimensions: 31380900 bytes\n",
      "2016-11-29 22:05:37,009 : INFO : resetting layer weights\n",
      "2016-11-29 22:05:37,213 : INFO : training model with 2 workers on 10821 vocabulary and 300 features, using sg=0 hs=0 sample=0.001 negative=5\n",
      "2016-11-29 22:05:37,214 : INFO : expecting 1271906 sentences, matching count from corpus used for vocabulary survey\n",
      "2016-11-29 22:05:38,365 : INFO : PROGRESS: at 0.13% examples, 96066 words/s, in_qsize 2, out_qsize 1\n",
      "2016-11-29 22:05:39,396 : INFO : PROGRESS: at 0.22% examples, 83852 words/s, in_qsize 3, out_qsize 0\n",
      "2016-11-29 22:05:40,437 : INFO : PROGRESS: at 0.30% examples, 79486 words/s, in_qsize 4, out_qsize 0\n",
      "2016-11-29 22:05:41,600 : INFO : PROGRESS: at 0.42% examples, 77834 words/s, in_qsize 3, out_qsize 0\n",
      "2016-11-29 22:05:42,742 : INFO : PROGRESS: at 0.54% examples, 77117 words/s, in_qsize 4, out_qsize 0\n",
      "2016-11-29 22:05:43,748 : INFO : PROGRESS: at 0.65% examples, 77225 words/s, in_qsize 3, out_qsize 0\n",
      "2016-11-29 22:05:44,822 : INFO : PROGRESS: at 0.75% examples, 76448 words/s, in_qsize 4, out_qsize 0\n",
      "2016-11-29 22:05:45,883 : INFO : PROGRESS: at 0.86% examples, 76156 words/s, in_qsize 3, out_qsize 0\n",
      "2016-11-29 22:05:46,943 : INFO : PROGRESS: at 0.97% examples, 75860 words/s, in_qsize 3, out_qsize 0\n",
      "2016-11-29 22:05:48,002 : INFO : PROGRESS: at 1.07% examples, 75620 words/s, in_qsize 4, out_qsize 0\n",
      "2016-11-29 22:05:49,014 : INFO : PROGRESS: at 1.24% examples, 78750 words/s, in_qsize 3, out_qsize 0\n",
      "2016-11-29 22:05:50,146 : INFO : PROGRESS: at 1.34% examples, 77983 words/s, in_qsize 3, out_qsize 0\n",
      "2016-11-29 22:05:51,192 : INFO : PROGRESS: at 1.44% examples, 77786 words/s, in_qsize 3, out_qsize 0\n",
      "2016-11-29 22:05:52,305 : INFO : PROGRESS: at 1.55% examples, 77361 words/s, in_qsize 3, out_qsize 0\n",
      "2016-11-29 22:05:53,314 : INFO : PROGRESS: at 1.64% examples, 77034 words/s, in_qsize 4, out_qsize 0\n",
      "2016-11-29 22:05:54,364 : INFO : PROGRESS: at 1.74% examples, 76911 words/s, in_qsize 4, out_qsize 0\n",
      "2016-11-29 22:05:55,457 : INFO : PROGRESS: at 1.84% examples, 76619 words/s, in_qsize 4, out_qsize 0\n",
      "2016-11-29 22:05:56,523 : INFO : PROGRESS: at 1.95% examples, 76446 words/s, in_qsize 4, out_qsize 0\n",
      "2016-11-29 22:05:57,524 : INFO : PROGRESS: at 2.04% examples, 76234 words/s, in_qsize 3, out_qsize 0\n",
      "2016-11-29 22:05:58,530 : INFO : PROGRESS: at 2.13% examples, 76050 words/s, in_qsize 4, out_qsize 0\n",
      "2016-11-29 22:05:59,588 : INFO : PROGRESS: at 2.24% examples, 75989 words/s, in_qsize 3, out_qsize 0\n",
      "2016-11-29 22:06:00,718 : INFO : PROGRESS: at 2.34% examples, 75697 words/s, in_qsize 3, out_qsize 0\n",
      "2016-11-29 22:06:01,728 : INFO : PROGRESS: at 2.43% examples, 75573 words/s, in_qsize 4, out_qsize 0\n",
      "2016-11-29 22:06:02,881 : INFO : PROGRESS: at 2.56% examples, 75506 words/s, in_qsize 3, out_qsize 0\n",
      "2016-11-29 22:06:03,882 : INFO : PROGRESS: at 2.66% examples, 75623 words/s, in_qsize 4, out_qsize 0\n",
      "2016-11-29 22:06:05,013 : INFO : PROGRESS: at 2.77% examples, 75339 words/s, in_qsize 4, out_qsize 0\n",
      "2016-11-29 22:06:06,051 : INFO : PROGRESS: at 2.87% examples, 75347 words/s, in_qsize 4, out_qsize 0\n",
      "2016-11-29 22:06:07,069 : INFO : PROGRESS: at 2.96% examples, 75229 words/s, in_qsize 4, out_qsize 0\n",
      "2016-11-29 22:06:08,203 : INFO : PROGRESS: at 3.06% examples, 75032 words/s, in_qsize 4, out_qsize 0\n",
      "2016-11-29 22:06:09,249 : INFO : PROGRESS: at 3.16% examples, 75061 words/s, in_qsize 3, out_qsize 0\n",
      "2016-11-29 22:06:10,314 : INFO : PROGRESS: at 3.27% examples, 75006 words/s, in_qsize 4, out_qsize 0\n",
      "2016-11-29 22:06:11,393 : INFO : PROGRESS: at 3.38% examples, 74966 words/s, in_qsize 4, out_qsize 0\n",
      "2016-11-29 22:06:12,409 : INFO : PROGRESS: at 3.48% examples, 74819 words/s, in_qsize 4, out_qsize 0\n",
      "2016-11-29 22:06:13,422 : INFO : PROGRESS: at 3.59% examples, 74918 words/s, in_qsize 4, out_qsize 0\n",
      "2016-11-29 22:06:14,540 : INFO : PROGRESS: at 3.69% examples, 74768 words/s, in_qsize 4, out_qsize 0\n",
      "2016-11-29 22:06:15,559 : INFO : PROGRESS: at 3.83% examples, 75368 words/s, in_qsize 3, out_qsize 0\n",
      "2016-11-29 22:06:16,577 : INFO : PROGRESS: at 4.01% examples, 76699 words/s, in_qsize 3, out_qsize 0\n",
      "2016-11-29 22:06:17,613 : INFO : PROGRESS: at 4.19% examples, 77949 words/s, in_qsize 3, out_qsize 0\n",
      "2016-11-29 22:06:18,649 : INFO : PROGRESS: at 4.36% examples, 78948 words/s, in_qsize 4, out_qsize 0\n",
      "2016-11-29 22:06:19,761 : INFO : PROGRESS: at 4.47% examples, 78727 words/s, in_qsize 3, out_qsize 0\n",
      "2016-11-29 22:06:20,930 : INFO : PROGRESS: at 4.58% examples, 78577 words/s, in_qsize 3, out_qsize 0\n",
      "2016-11-29 22:06:22,120 : INFO : PROGRESS: at 4.70% examples, 78420 words/s, in_qsize 4, out_qsize 0\n",
      "2016-11-29 22:06:23,315 : INFO : PROGRESS: at 4.82% examples, 78264 words/s, in_qsize 3, out_qsize 0\n",
      "2016-11-29 22:06:24,336 : INFO : PROGRESS: at 4.96% examples, 78700 words/s, in_qsize 4, out_qsize 0\n",
      "2016-11-29 22:06:25,378 : INFO : PROGRESS: at 5.07% examples, 78631 words/s, in_qsize 4, out_qsize 0\n",
      "2016-11-29 22:06:26,483 : INFO : PROGRESS: at 5.18% examples, 78476 words/s, in_qsize 4, out_qsize 0\n",
      "2016-11-29 22:06:27,558 : INFO : PROGRESS: at 5.32% examples, 78840 words/s, in_qsize 3, out_qsize 0\n"
     ]
    }
   ],
   "source": [
    "# Import the built-in logging module and configure it so that Word2Vec \n",
    "# creates nice output messages\n",
    "import logging\n",
    "logging.basicConfig(format='%(asctime)s : %(levelname)s : %(message)s',\\\n",
    "    level=logging.INFO)\n",
    "\n",
    "# Set values for various parameters\n",
    "num_features = 300    # Word vector dimensionality                      \n",
    "min_word_count = 40   # Minimum word count                        \n",
    "num_workers = 2       # Number of threads to run in parallel\n",
    "context = 10          # Context window size                                                                                    \n",
    "downsampling = 1e-3   # Downsample setting for frequent words\n",
    "\n",
    "# Initialize and train the model (this will take some time)\n",
    "from gensim.models import word2vec\n",
    "model = word2vec.Word2Vec(train_sentences, workers=num_workers, \\\n",
    "            size=num_features, min_count = min_word_count, \\\n",
    "            window = context, sample = downsampling)\n",
    "\n",
    "# If you don't plan to train the model any further, calling \n",
    "# init_sims will make the model much more memory-efficient.\n",
    "model.init_sims(replace=True)\n",
    "\n",
    "# It can be helpful to create a meaningful model name and \n",
    "# save the model for later use. You can load it later using Word2Vec.load()\n",
    "model_name = \"train_model\"\n",
    "model.save(model_name)"
   ]
  }
 ],
 "metadata": {
  "anaconda-cloud": {},
  "kernelspec": {
   "display_name": "Python [conda env:kaggle-amazon-fine-food-reviews]",
   "language": "python",
   "name": "conda-env-kaggle-amazon-fine-food-reviews-py"
  },
  "language_info": {
   "codemirror_mode": {
    "name": "ipython",
    "version": 3
   },
   "file_extension": ".py",
   "mimetype": "text/x-python",
   "name": "python",
   "nbconvert_exporter": "python",
   "pygments_lexer": "ipython3",
   "version": "3.5.2"
  }
 },
 "nbformat": 4,
 "nbformat_minor": 1
}
